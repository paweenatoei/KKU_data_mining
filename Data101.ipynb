{
  "nbformat": 4,
  "nbformat_minor": 0,
  "metadata": {
    "colab": {
      "name": "Data101.ipynb",
      "provenance": [],
      "authorship_tag": "ABX9TyMc4gAV11J+S4nXHb4mGiT1",
      "include_colab_link": true
    },
    "kernelspec": {
      "name": "python3",
      "display_name": "Python 3"
    }
  },
  "cells": [
    {
      "cell_type": "markdown",
      "metadata": {
        "id": "view-in-github",
        "colab_type": "text"
      },
      "source": [
        "<a href=\"https://colab.research.google.com/github/paweenatoei/KKU_data_mining/blob/master/Data101.ipynb\" target=\"_parent\"><img src=\"https://colab.research.google.com/assets/colab-badge.svg\" alt=\"Open In Colab\"/></a>"
      ]
    },
    {
      "cell_type": "markdown",
      "metadata": {
        "id": "1lHNd0w6ckDY",
        "colab_type": "text"
      },
      "source": [
        "ตัวอย่างการเรียกใช้ package ที่ชื่อว่า pandas"
      ]
    },
    {
      "cell_type": "code",
      "metadata": {
        "id": "fvz0Qyy8W8mz",
        "colab_type": "code",
        "colab": {}
      },
      "source": [
        "import pandas "
      ],
      "execution_count": null,
      "outputs": []
    },
    {
      "cell_type": "markdown",
      "metadata": {
        "id": "xlO3PVvckRSt",
        "colab_type": "text"
      },
      "source": [
        "คำสั่งนำเข้า package โดยตั้งชื่อว่า pandas"
      ]
    },
    {
      "cell_type": "code",
      "metadata": {
        "id": "abYXx9ogY0MX",
        "colab_type": "code",
        "colab": {}
      },
      "source": [
        "import pandas as pd"
      ],
      "execution_count": null,
      "outputs": []
    },
    {
      "cell_type": "markdown",
      "metadata": {
        "id": "JcV4mugckZ3M",
        "colab_type": "text"
      },
      "source": [
        "คำสั่งนำเข้า package โดยตั้งชื่อว่า pandas as pd"
      ]
    },
    {
      "cell_type": "code",
      "metadata": {
        "id": "YrhDzdRlZAHJ",
        "colab_type": "code",
        "colab": {
          "base_uri": "https://localhost:8080/",
          "height": 122
        },
        "outputId": "f40bf0f4-dc96-41f9-cb47-3956ab6de486"
      },
      "source": [
        "from google.colab import drive\n",
        "drive.mount('/content/drive')"
      ],
      "execution_count": null,
      "outputs": [
        {
          "output_type": "stream",
          "text": [
            "Go to this URL in a browser: https://accounts.google.com/o/oauth2/auth?client_id=947318989803-6bn6qk8qdgf4n4g3pfee6491hc0brc4i.apps.googleusercontent.com&redirect_uri=urn%3aietf%3awg%3aoauth%3a2.0%3aoob&response_type=code&scope=email%20https%3a%2f%2fwww.googleapis.com%2fauth%2fdocs.test%20https%3a%2f%2fwww.googleapis.com%2fauth%2fdrive%20https%3a%2f%2fwww.googleapis.com%2fauth%2fdrive.photos.readonly%20https%3a%2f%2fwww.googleapis.com%2fauth%2fpeopleapi.readonly\n",
            "\n",
            "Enter your authorization code:\n",
            "··········\n",
            "Mounted at /content/drive\n"
          ],
          "name": "stdout"
        }
      ]
    },
    {
      "cell_type": "markdown",
      "metadata": {
        "id": "_xownLtukkqK",
        "colab_type": "text"
      },
      "source": [
        "เป็นการนำไฟล์จาก google drive มาที่ google colab"
      ]
    },
    {
      "cell_type": "code",
      "metadata": {
        "id": "l4yizkCsZGFc",
        "colab_type": "code",
        "colab": {}
      },
      "source": [
        "import os"
      ],
      "execution_count": null,
      "outputs": []
    },
    {
      "cell_type": "markdown",
      "metadata": {
        "id": "zf2DWmENkyPx",
        "colab_type": "text"
      },
      "source": [
        "คำสั่งนำเข้า package โดยตั้งชื่อว่า os"
      ]
    },
    {
      "cell_type": "code",
      "metadata": {
        "id": "VHiaMD6efSf7",
        "colab_type": "code",
        "colab": {}
      },
      "source": [
        "path = '/content/drive/My Drive/DWDM_material'"
      ],
      "execution_count": null,
      "outputs": []
    },
    {
      "cell_type": "markdown",
      "metadata": {
        "id": "rVsz7QAgk7bY",
        "colab_type": "text"
      },
      "source": [
        "เป็นการจัดเก็บไฟล์ข้อมูล"
      ]
    },
    {
      "cell_type": "code",
      "metadata": {
        "id": "Us8R2acjZmQn",
        "colab_type": "code",
        "colab": {
          "base_uri": "https://localhost:8080/",
          "height": 34
        },
        "outputId": "6f17c34c-47cc-49d2-b296-0b30fba270c9"
      },
      "source": [
        "os.listdir('/content/drive/My Drive/DWDM_material')"
      ],
      "execution_count": null,
      "outputs": [
        {
          "output_type": "execute_result",
          "data": {
            "text/plain": [
              "['test.csv']"
            ]
          },
          "metadata": {
            "tags": []
          },
          "execution_count": 7
        }
      ]
    },
    {
      "cell_type": "markdown",
      "metadata": {
        "id": "MMMK07WCk_mz",
        "colab_type": "text"
      },
      "source": [
        "ที่จัดเก็บไฟล์ข้อมูล ที่มีชื่อว่า os.listdir จากนั้นผลรันจะเป็นชื่อไฟล์"
      ]
    },
    {
      "cell_type": "code",
      "metadata": {
        "id": "01Qp0vORhN95",
        "colab_type": "code",
        "colab": {
          "base_uri": "https://localhost:8080/",
          "height": 34
        },
        "outputId": "0f169369-142e-4f5a-e662-f02b5fc5f8d4"
      },
      "source": [
        "file_path = os.path.join(path,'test.csv')\n",
        "print(file_path)"
      ],
      "execution_count": null,
      "outputs": [
        {
          "output_type": "stream",
          "text": [
            "/content/drive/My Drive/DWDM_material/test.csv\n"
          ],
          "name": "stdout"
        }
      ]
    },
    {
      "cell_type": "markdown",
      "metadata": {
        "id": "cCxWcTDHlgb4",
        "colab_type": "text"
      },
      "source": [
        "คำสั่งแสดงที่จัดเก็บไฟล์ข้อมูล"
      ]
    },
    {
      "cell_type": "code",
      "metadata": {
        "id": "N4t5-O5NgH88",
        "colab_type": "code",
        "colab": {
          "base_uri": "https://localhost:8080/",
          "height": 419
        },
        "outputId": "29cb233c-6e99-4b76-f83e-70078699d957"
      },
      "source": [
        "pd.read_csv(file_path)"
      ],
      "execution_count": null,
      "outputs": [
        {
          "output_type": "execute_result",
          "data": {
            "text/html": [
              "<div>\n",
              "<style scoped>\n",
              "    .dataframe tbody tr th:only-of-type {\n",
              "        vertical-align: middle;\n",
              "    }\n",
              "\n",
              "    .dataframe tbody tr th {\n",
              "        vertical-align: top;\n",
              "    }\n",
              "\n",
              "    .dataframe thead th {\n",
              "        text-align: right;\n",
              "    }\n",
              "</style>\n",
              "<table border=\"1\" class=\"dataframe\">\n",
              "  <thead>\n",
              "    <tr style=\"text-align: right;\">\n",
              "      <th></th>\n",
              "      <th>Unnamed: 0</th>\n",
              "      <th>x</th>\n",
              "      <th>y</th>\n",
              "    </tr>\n",
              "  </thead>\n",
              "  <tbody>\n",
              "    <tr>\n",
              "      <th>0</th>\n",
              "      <td>0</td>\n",
              "      <td>55.3846</td>\n",
              "      <td>97.1795</td>\n",
              "    </tr>\n",
              "    <tr>\n",
              "      <th>1</th>\n",
              "      <td>1</td>\n",
              "      <td>51.5385</td>\n",
              "      <td>96.0256</td>\n",
              "    </tr>\n",
              "    <tr>\n",
              "      <th>2</th>\n",
              "      <td>2</td>\n",
              "      <td>46.1538</td>\n",
              "      <td>94.4872</td>\n",
              "    </tr>\n",
              "    <tr>\n",
              "      <th>3</th>\n",
              "      <td>3</td>\n",
              "      <td>42.8205</td>\n",
              "      <td>91.4103</td>\n",
              "    </tr>\n",
              "    <tr>\n",
              "      <th>4</th>\n",
              "      <td>4</td>\n",
              "      <td>40.7692</td>\n",
              "      <td>88.3333</td>\n",
              "    </tr>\n",
              "    <tr>\n",
              "      <th>...</th>\n",
              "      <td>...</td>\n",
              "      <td>...</td>\n",
              "      <td>...</td>\n",
              "    </tr>\n",
              "    <tr>\n",
              "      <th>137</th>\n",
              "      <td>137</td>\n",
              "      <td>39.4872</td>\n",
              "      <td>25.3846</td>\n",
              "    </tr>\n",
              "    <tr>\n",
              "      <th>138</th>\n",
              "      <td>138</td>\n",
              "      <td>91.2821</td>\n",
              "      <td>41.5385</td>\n",
              "    </tr>\n",
              "    <tr>\n",
              "      <th>139</th>\n",
              "      <td>139</td>\n",
              "      <td>50.0000</td>\n",
              "      <td>95.7692</td>\n",
              "    </tr>\n",
              "    <tr>\n",
              "      <th>140</th>\n",
              "      <td>140</td>\n",
              "      <td>47.9487</td>\n",
              "      <td>95.0000</td>\n",
              "    </tr>\n",
              "    <tr>\n",
              "      <th>141</th>\n",
              "      <td>141</td>\n",
              "      <td>44.1026</td>\n",
              "      <td>92.6923</td>\n",
              "    </tr>\n",
              "  </tbody>\n",
              "</table>\n",
              "<p>142 rows × 3 columns</p>\n",
              "</div>"
            ],
            "text/plain": [
              "     Unnamed: 0        x        y\n",
              "0             0  55.3846  97.1795\n",
              "1             1  51.5385  96.0256\n",
              "2             2  46.1538  94.4872\n",
              "3             3  42.8205  91.4103\n",
              "4             4  40.7692  88.3333\n",
              "..          ...      ...      ...\n",
              "137         137  39.4872  25.3846\n",
              "138         138  91.2821  41.5385\n",
              "139         139  50.0000  95.7692\n",
              "140         140  47.9487  95.0000\n",
              "141         141  44.1026  92.6923\n",
              "\n",
              "[142 rows x 3 columns]"
            ]
          },
          "metadata": {
            "tags": []
          },
          "execution_count": 9
        }
      ]
    },
    {
      "cell_type": "code",
      "metadata": {
        "id": "kvicp78XhLyg",
        "colab_type": "code",
        "colab": {}
      },
      "source": [
        "table1 = pd.read_csv(file_path)"
      ],
      "execution_count": null,
      "outputs": []
    },
    {
      "cell_type": "markdown",
      "metadata": {
        "id": "0PdV1RfnlqnW",
        "colab_type": "text"
      },
      "source": [
        "คำสั่งแสดงรายละเอียดข้อมูลทั้งหมดที่อยู่ในไฟล์"
      ]
    },
    {
      "cell_type": "code",
      "metadata": {
        "id": "esMHYxyvhMGO",
        "colab_type": "code",
        "colab": {
          "base_uri": "https://localhost:8080/",
          "height": 204
        },
        "outputId": "e6c77a4d-019b-4a5b-ea16-610c23e77b99"
      },
      "source": [
        "table1.head()"
      ],
      "execution_count": null,
      "outputs": [
        {
          "output_type": "execute_result",
          "data": {
            "text/html": [
              "<div>\n",
              "<style scoped>\n",
              "    .dataframe tbody tr th:only-of-type {\n",
              "        vertical-align: middle;\n",
              "    }\n",
              "\n",
              "    .dataframe tbody tr th {\n",
              "        vertical-align: top;\n",
              "    }\n",
              "\n",
              "    .dataframe thead th {\n",
              "        text-align: right;\n",
              "    }\n",
              "</style>\n",
              "<table border=\"1\" class=\"dataframe\">\n",
              "  <thead>\n",
              "    <tr style=\"text-align: right;\">\n",
              "      <th></th>\n",
              "      <th>Unnamed: 0</th>\n",
              "      <th>x</th>\n",
              "      <th>y</th>\n",
              "    </tr>\n",
              "  </thead>\n",
              "  <tbody>\n",
              "    <tr>\n",
              "      <th>0</th>\n",
              "      <td>0</td>\n",
              "      <td>55.3846</td>\n",
              "      <td>97.1795</td>\n",
              "    </tr>\n",
              "    <tr>\n",
              "      <th>1</th>\n",
              "      <td>1</td>\n",
              "      <td>51.5385</td>\n",
              "      <td>96.0256</td>\n",
              "    </tr>\n",
              "    <tr>\n",
              "      <th>2</th>\n",
              "      <td>2</td>\n",
              "      <td>46.1538</td>\n",
              "      <td>94.4872</td>\n",
              "    </tr>\n",
              "    <tr>\n",
              "      <th>3</th>\n",
              "      <td>3</td>\n",
              "      <td>42.8205</td>\n",
              "      <td>91.4103</td>\n",
              "    </tr>\n",
              "    <tr>\n",
              "      <th>4</th>\n",
              "      <td>4</td>\n",
              "      <td>40.7692</td>\n",
              "      <td>88.3333</td>\n",
              "    </tr>\n",
              "  </tbody>\n",
              "</table>\n",
              "</div>"
            ],
            "text/plain": [
              "   Unnamed: 0        x        y\n",
              "0           0  55.3846  97.1795\n",
              "1           1  51.5385  96.0256\n",
              "2           2  46.1538  94.4872\n",
              "3           3  42.8205  91.4103\n",
              "4           4  40.7692  88.3333"
            ]
          },
          "metadata": {
            "tags": []
          },
          "execution_count": 11
        }
      ]
    },
    {
      "cell_type": "markdown",
      "metadata": {
        "id": "1pcFCVRTl18g",
        "colab_type": "text"
      },
      "source": [
        "คำสั่งแสดงรายละเอียดข้อมูลในไฟล์แบบย่อ"
      ]
    },
    {
      "cell_type": "code",
      "metadata": {
        "id": "H6obEeiXhLXc",
        "colab_type": "code",
        "colab": {}
      },
      "source": [
        "from matplotlib import pyplot as plt"
      ],
      "execution_count": null,
      "outputs": []
    },
    {
      "cell_type": "markdown",
      "metadata": {
        "id": "mnMqrNXdm2VG",
        "colab_type": "text"
      },
      "source": [
        "คำสั่งนำเข้า package โดยเปลี่ยนจาก matplotlib เป็น plt"
      ]
    },
    {
      "cell_type": "code",
      "metadata": {
        "id": "GZ48YV31k64m",
        "colab_type": "code",
        "colab": {
          "base_uri": "https://localhost:8080/",
          "height": 282
        },
        "outputId": "ee21074f-bebb-49ec-f069-9be6c727fe4d"
      },
      "source": [
        "plt.scatter(table1['x'],table1['y'])"
      ],
      "execution_count": null,
      "outputs": [
        {
          "output_type": "execute_result",
          "data": {
            "text/plain": [
              "<matplotlib.collections.PathCollection at 0x7fbf99ffd4a8>"
            ]
          },
          "metadata": {
            "tags": []
          },
          "execution_count": 13
        },
        {
          "output_type": "display_data",
          "data": {
            "image/png": "[encoded data removed]",
            "text/plain": [
              "<Figure size 432x288 with 1 Axes>"
            ]
          },
          "metadata": {
            "tags": [],
            "needs_background": "light"
          }
        }
      ]
    },
    {
      "cell_type": "markdown",
      "metadata": {
        "id": "SmPu2tQ1nlb5",
        "colab_type": "text"
      },
      "source": [
        "คำสั่งแสดงข้อมูลในไฟล์เป็นกราฟ ผลรันคือ กราฟรูปไดโนเสาร์"
      ]
    },
    {
      "cell_type": "markdown",
      "metadata": {
        "id": "eiVYV-gqn0Q0",
        "colab_type": "text"
      },
      "source": [
        "## Centrality"
      ]
    },
    {
      "cell_type": "code",
      "metadata": {
        "id": "E457d5u3n-eM",
        "colab_type": "code",
        "colab": {
          "base_uri": "https://localhost:8080/",
          "height": 221
        },
        "outputId": "8e2b4447-c2db-4dc4-e7c6-20b16898e368"
      },
      "source": [
        "table1.x"
      ],
      "execution_count": null,
      "outputs": [
        {
          "output_type": "execute_result",
          "data": {
            "text/plain": [
              "0      55.3846\n",
              "1      51.5385\n",
              "2      46.1538\n",
              "3      42.8205\n",
              "4      40.7692\n",
              "        ...   \n",
              "137    39.4872\n",
              "138    91.2821\n",
              "139    50.0000\n",
              "140    47.9487\n",
              "141    44.1026\n",
              "Name: x, Length: 142, dtype: float64"
            ]
          },
          "metadata": {
            "tags": []
          },
          "execution_count": 14
        }
      ]
    },
    {
      "cell_type": "markdown",
      "metadata": {
        "id": "qzIFLbmq5bDP",
        "colab_type": "text"
      },
      "source": [
        "คำสั่งแสดงรายละเอียดแค่ตัวแปร x จากข้อมูลทั้งหมด"
      ]
    },
    {
      "cell_type": "code",
      "metadata": {
        "id": "0P1vdNOmn-Sm",
        "colab_type": "code",
        "colab": {
          "base_uri": "https://localhost:8080/",
          "height": 221
        },
        "outputId": "e266532e-f098-47e5-bad1-5ecb2e5c4e82"
      },
      "source": [
        "table1['x']"
      ],
      "execution_count": null,
      "outputs": [
        {
          "output_type": "execute_result",
          "data": {
            "text/plain": [
              "0      55.3846\n",
              "1      51.5385\n",
              "2      46.1538\n",
              "3      42.8205\n",
              "4      40.7692\n",
              "        ...   \n",
              "137    39.4872\n",
              "138    91.2821\n",
              "139    50.0000\n",
              "140    47.9487\n",
              "141    44.1026\n",
              "Name: x, Length: 142, dtype: float64"
            ]
          },
          "metadata": {
            "tags": []
          },
          "execution_count": 15
        }
      ]
    },
    {
      "cell_type": "markdown",
      "metadata": {
        "id": "RlybzQJv5zpW",
        "colab_type": "text"
      },
      "source": [
        "คำสั่งแสดงรายละเอียดแค่ตัวแปร x จากข้อมูลทั้งหมด"
      ]
    },
    {
      "cell_type": "code",
      "metadata": {
        "id": "M3Fku2Yok7iD",
        "colab_type": "code",
        "colab": {
          "base_uri": "https://localhost:8080/",
          "height": 297
        },
        "outputId": "418be53d-1204-48de-d465-0d5d5d63e97c"
      },
      "source": [
        "table1.describe()"
      ],
      "execution_count": null,
      "outputs": [
        {
          "output_type": "execute_result",
          "data": {
            "text/html": [
              "<div>\n",
              "<style scoped>\n",
              "    .dataframe tbody tr th:only-of-type {\n",
              "        vertical-align: middle;\n",
              "    }\n",
              "\n",
              "    .dataframe tbody tr th {\n",
              "        vertical-align: top;\n",
              "    }\n",
              "\n",
              "    .dataframe thead th {\n",
              "        text-align: right;\n",
              "    }\n",
              "</style>\n",
              "<table border=\"1\" class=\"dataframe\">\n",
              "  <thead>\n",
              "    <tr style=\"text-align: right;\">\n",
              "      <th></th>\n",
              "      <th>Unnamed: 0</th>\n",
              "      <th>x</th>\n",
              "      <th>y</th>\n",
              "    </tr>\n",
              "  </thead>\n",
              "  <tbody>\n",
              "    <tr>\n",
              "      <th>count</th>\n",
              "      <td>142.000000</td>\n",
              "      <td>142.000000</td>\n",
              "      <td>142.000000</td>\n",
              "    </tr>\n",
              "    <tr>\n",
              "      <th>mean</th>\n",
              "      <td>70.500000</td>\n",
              "      <td>54.263273</td>\n",
              "      <td>47.832253</td>\n",
              "    </tr>\n",
              "    <tr>\n",
              "      <th>std</th>\n",
              "      <td>41.135953</td>\n",
              "      <td>16.765142</td>\n",
              "      <td>26.935403</td>\n",
              "    </tr>\n",
              "    <tr>\n",
              "      <th>min</th>\n",
              "      <td>0.000000</td>\n",
              "      <td>22.307700</td>\n",
              "      <td>2.948700</td>\n",
              "    </tr>\n",
              "    <tr>\n",
              "      <th>25%</th>\n",
              "      <td>35.250000</td>\n",
              "      <td>44.102600</td>\n",
              "      <td>25.288450</td>\n",
              "    </tr>\n",
              "    <tr>\n",
              "      <th>50%</th>\n",
              "      <td>70.500000</td>\n",
              "      <td>53.333300</td>\n",
              "      <td>46.025600</td>\n",
              "    </tr>\n",
              "    <tr>\n",
              "      <th>75%</th>\n",
              "      <td>105.750000</td>\n",
              "      <td>64.743600</td>\n",
              "      <td>68.525675</td>\n",
              "    </tr>\n",
              "    <tr>\n",
              "      <th>max</th>\n",
              "      <td>141.000000</td>\n",
              "      <td>98.205100</td>\n",
              "      <td>99.487200</td>\n",
              "    </tr>\n",
              "  </tbody>\n",
              "</table>\n",
              "</div>"
            ],
            "text/plain": [
              "       Unnamed: 0           x           y\n",
              "count  142.000000  142.000000  142.000000\n",
              "mean    70.500000   54.263273   47.832253\n",
              "std     41.135953   16.765142   26.935403\n",
              "min      0.000000   22.307700    2.948700\n",
              "25%     35.250000   44.102600   25.288450\n",
              "50%     70.500000   53.333300   46.025600\n",
              "75%    105.750000   64.743600   68.525675\n",
              "max    141.000000   98.205100   99.487200"
            ]
          },
          "metadata": {
            "tags": []
          },
          "execution_count": 16
        }
      ]
    },
    {
      "cell_type": "markdown",
      "metadata": {
        "id": "NZODeK3I6kHl",
        "colab_type": "text"
      },
      "source": [
        "คำสั่งแสดงรายละเอียดของค่า count,mean,std,min,ค่าเฉลี่ย,max"
      ]
    },
    {
      "cell_type": "code",
      "metadata": {
        "id": "ajWTy6IKk7NM",
        "colab_type": "code",
        "colab": {}
      },
      "source": [
        ""
      ],
      "execution_count": null,
      "outputs": []
    },
    {
      "cell_type": "code",
      "metadata": {
        "id": "q8nSxSVIZEIp",
        "colab_type": "code",
        "colab": {}
      },
      "source": [
        ""
      ],
      "execution_count": null,
      "outputs": []
    },
    {
      "cell_type": "markdown",
      "metadata": {
        "id": "y_rMuxQQpow1",
        "colab_type": "text"
      },
      "source": [
        "## Python Data Structure"
      ]
    },
    {
      "cell_type": "markdown",
      "metadata": {
        "id": "ZBDCuIwDqCfJ",
        "colab_type": "text"
      },
      "source": [
        "Variable"
      ]
    },
    {
      "cell_type": "markdown",
      "metadata": {
        "id": "NK0RLP6_7PYh",
        "colab_type": "text"
      },
      "source": [
        "ตัวแปร"
      ]
    },
    {
      "cell_type": "code",
      "metadata": {
        "id": "iN0fy0DGp2S2",
        "colab_type": "code",
        "colab": {}
      },
      "source": [
        "a=1\n",
        "b=3"
      ],
      "execution_count": null,
      "outputs": []
    },
    {
      "cell_type": "markdown",
      "metadata": {
        "id": "RavOaqou7S6O",
        "colab_type": "text"
      },
      "source": [
        "นำเข้าตัวแปร a,b โดยกำหนดค่าของตัวแปรดังนี้ ให้ a=1,b=3"
      ]
    },
    {
      "cell_type": "code",
      "metadata": {
        "id": "l4H9kEk8p7ct",
        "colab_type": "code",
        "colab": {}
      },
      "source": [
        "c = a+b"
      ],
      "execution_count": null,
      "outputs": []
    },
    {
      "cell_type": "markdown",
      "metadata": {
        "id": "RVLhpl0e70ac",
        "colab_type": "text"
      },
      "source": [
        "นำเข้าตัวแปร c โดยกำหนดตัวแปร c=a+b"
      ]
    },
    {
      "cell_type": "code",
      "metadata": {
        "id": "xHy5PkVQp7_M",
        "colab_type": "code",
        "colab": {
          "base_uri": "https://localhost:8080/",
          "height": 34
        },
        "outputId": "8c2f1a43-fc21-4f2b-9e18-94db22f4a1c6"
      },
      "source": [
        "c"
      ],
      "execution_count": null,
      "outputs": [
        {
          "output_type": "execute_result",
          "data": {
            "text/plain": [
              "4"
            ]
          },
          "metadata": {
            "tags": []
          },
          "execution_count": 19
        }
      ]
    },
    {
      "cell_type": "markdown",
      "metadata": {
        "id": "hARjFIHz765-",
        "colab_type": "text"
      },
      "source": [
        "แสดงค่าตัวแปร c ผลรันที่ได้คือ 4"
      ]
    },
    {
      "cell_type": "code",
      "metadata": {
        "id": "t2t9lnkIp8Jf",
        "colab_type": "code",
        "colab": {}
      },
      "source": [
        "name = 'a'"
      ],
      "execution_count": null,
      "outputs": []
    },
    {
      "cell_type": "markdown",
      "metadata": {
        "id": "XSRH_85d9eQv",
        "colab_type": "text"
      },
      "source": [
        "นำเข้าตัวแปร name โดยให้ name='a'"
      ]
    },
    {
      "cell_type": "code",
      "metadata": {
        "id": "iWy6Cp_Jp8TO",
        "colab_type": "code",
        "colab": {
          "base_uri": "https://localhost:8080/",
          "height": 35
        },
        "outputId": "7d32c01b-df62-4a00-d140-19c5e8e030a7"
      },
      "source": [
        "name"
      ],
      "execution_count": null,
      "outputs": [
        {
          "output_type": "execute_result",
          "data": {
            "application/vnd.google.colaboratory.intrinsic+json": {
              "type": "string"
            },
            "text/plain": [
              "'a'"
            ]
          },
          "metadata": {
            "tags": []
          },
          "execution_count": 21
        }
      ]
    },
    {
      "cell_type": "markdown",
      "metadata": {
        "id": "hRZypTP49oVJ",
        "colab_type": "text"
      },
      "source": [
        "แสดงค่าตัวแปร name ผลรันที่ได้คือ 'a'"
      ]
    },
    {
      "cell_type": "code",
      "metadata": {
        "id": "wbSsK6znp8lk",
        "colab_type": "code",
        "colab": {}
      },
      "source": [
        "one = 1"
      ],
      "execution_count": null,
      "outputs": []
    },
    {
      "cell_type": "markdown",
      "metadata": {
        "id": "KgKVG7_l91c-",
        "colab_type": "text"
      },
      "source": [
        "นำเข้าตัวแปร one โดยให้ one=1"
      ]
    },
    {
      "cell_type": "code",
      "metadata": {
        "id": "a4b8V-z1p8O8",
        "colab_type": "code",
        "colab": {
          "base_uri": "https://localhost:8080/",
          "height": 34
        },
        "outputId": "7dd4a005-ff3a-43a4-c80a-54c88f039b28"
      },
      "source": [
        "a + one"
      ],
      "execution_count": null,
      "outputs": [
        {
          "output_type": "execute_result",
          "data": {
            "text/plain": [
              "2"
            ]
          },
          "metadata": {
            "tags": []
          },
          "execution_count": 23
        }
      ]
    },
    {
      "cell_type": "markdown",
      "metadata": {
        "id": "5U_Dd_T_9-5O",
        "colab_type": "text"
      },
      "source": [
        "นำเข้าสูตรคำนวณ โดย a+one จะได้ผลรันคือ 2"
      ]
    },
    {
      "cell_type": "code",
      "metadata": {
        "id": "50CHaqOdp8Ff",
        "colab_type": "code",
        "colab": {
          "base_uri": "https://localhost:8080/",
          "height": 34
        },
        "outputId": "1df5ae1a-3e53-471b-e65a-58cc90b5baa1"
      },
      "source": [
        "a + int(one)"
      ],
      "execution_count": null,
      "outputs": [
        {
          "output_type": "execute_result",
          "data": {
            "text/plain": [
              "2"
            ]
          },
          "metadata": {
            "tags": []
          },
          "execution_count": 24
        }
      ]
    },
    {
      "cell_type": "markdown",
      "metadata": {
        "id": "UBxctNVH-hsy",
        "colab_type": "text"
      },
      "source": [
        "นำเข้าสูตรคำนวณ โดย a+int(one) จะได้ผลรันคือ 2"
      ]
    },
    {
      "cell_type": "code",
      "metadata": {
        "id": "aUsG1DUwqkS7",
        "colab_type": "code",
        "colab": {}
      },
      "source": [
        "num = 112.76"
      ],
      "execution_count": null,
      "outputs": []
    },
    {
      "cell_type": "markdown",
      "metadata": {
        "id": "Fvt_h5O1-3Dj",
        "colab_type": "text"
      },
      "source": [
        "นำเข้าตัวแปร num โดยให้ num=112.76"
      ]
    },
    {
      "cell_type": "code",
      "metadata": {
        "id": "5eEM7R8eqkl2",
        "colab_type": "code",
        "colab": {
          "base_uri": "https://localhost:8080/",
          "height": 34
        },
        "outputId": "1f4406d1-09b6-414d-8902-93ca02f151b7"
      },
      "source": [
        "int(num)"
      ],
      "execution_count": null,
      "outputs": [
        {
          "output_type": "execute_result",
          "data": {
            "text/plain": [
              "112"
            ]
          },
          "metadata": {
            "tags": []
          },
          "execution_count": 26
        }
      ]
    },
    {
      "cell_type": "markdown",
      "metadata": {
        "id": "eM6eAO5R_f1y",
        "colab_type": "text"
      },
      "source": [
        "คำสั่งแสดงค่า num เป็นจำนวนเต็ม ผลรันที่ได้คือ 112"
      ]
    },
    {
      "cell_type": "code",
      "metadata": {
        "id": "S90pZpH2qkDS",
        "colab_type": "code",
        "colab": {
          "base_uri": "https://localhost:8080/",
          "height": 34
        },
        "outputId": "b2d86f46-7292-4bb9-f1ae-53d8e349d42a"
      },
      "source": [
        "float(num)"
      ],
      "execution_count": null,
      "outputs": [
        {
          "output_type": "execute_result",
          "data": {
            "text/plain": [
              "112.76"
            ]
          },
          "metadata": {
            "tags": []
          },
          "execution_count": 27
        }
      ]
    },
    {
      "cell_type": "markdown",
      "metadata": {
        "id": "-ap6WhRG_vZE",
        "colab_type": "text"
      },
      "source": [
        "คำสั่งแสดงค่า num เป็นทศนิยม ผลรันที่ได้คือ 112.76"
      ]
    },
    {
      "cell_type": "code",
      "metadata": {
        "id": "7vjGnxL7rFXT",
        "colab_type": "code",
        "colab": {
          "base_uri": "https://localhost:8080/",
          "height": 35
        },
        "outputId": "c600dbcc-c5b7-4029-9d4b-01790c46a6d4"
      },
      "source": [
        "str(float(num))"
      ],
      "execution_count": null,
      "outputs": [
        {
          "output_type": "execute_result",
          "data": {
            "application/vnd.google.colaboratory.intrinsic+json": {
              "type": "string"
            },
            "text/plain": [
              "'112.76'"
            ]
          },
          "metadata": {
            "tags": []
          },
          "execution_count": 28
        }
      ]
    },
    {
      "cell_type": "markdown",
      "metadata": {
        "id": "VBxZgjV8AIEd",
        "colab_type": "text"
      },
      "source": [
        "คำสั่งแสดงค่าจริงทั้งหมดของ num โดย str(float()) ผลรันที่ได้คือ '112.76'"
      ]
    },
    {
      "cell_type": "code",
      "metadata": {
        "id": "B6RQBG0hrGGB",
        "colab_type": "code",
        "colab": {}
      },
      "source": [
        "num2 = 112.76887"
      ],
      "execution_count": null,
      "outputs": []
    },
    {
      "cell_type": "markdown",
      "metadata": {
        "id": "mm5ja--HAlnh",
        "colab_type": "text"
      },
      "source": [
        "นำเข้าตัวแปร num2 โดยให้ num2=112.76887"
      ]
    },
    {
      "cell_type": "markdown",
      "metadata": {
        "id": "LeKwBgaHrWBB",
        "colab_type": "text"
      },
      "source": [
        "เปลี่ยนค่า num2='112.76887'เป็นเลขจำนวนเต็ม 112 ด้วย function casting(int()float()str())เท่านั้น"
      ]
    },
    {
      "cell_type": "code",
      "metadata": {
        "id": "_cj1r4wdp7wj",
        "colab_type": "code",
        "colab": {
          "base_uri": "https://localhost:8080/",
          "height": 34
        },
        "outputId": "8611cba4-bebe-4c1b-d203-5ef3e2b0da81"
      },
      "source": [
        "int(num2)"
      ],
      "execution_count": null,
      "outputs": [
        {
          "output_type": "execute_result",
          "data": {
            "text/plain": [
              "112"
            ]
          },
          "metadata": {
            "tags": []
          },
          "execution_count": 30
        }
      ]
    },
    {
      "cell_type": "markdown",
      "metadata": {
        "id": "xocXkTvq8yKq",
        "colab_type": "text"
      },
      "source": [
        "คำสั่งแสดงค่า num2 เป็นจำนวนเต็ม ผลรันที่ได้คือ 112"
      ]
    },
    {
      "cell_type": "code",
      "metadata": {
        "id": "252HgdiO8icE",
        "colab_type": "code",
        "colab": {
          "base_uri": "https://localhost:8080/",
          "height": 34
        },
        "outputId": "a9ef2d22-5f17-4605-8226-8d4507fe5554"
      },
      "source": [
        "float(num2)"
      ],
      "execution_count": null,
      "outputs": [
        {
          "output_type": "execute_result",
          "data": {
            "text/plain": [
              "112.76887"
            ]
          },
          "metadata": {
            "tags": []
          },
          "execution_count": 31
        }
      ]
    },
    {
      "cell_type": "markdown",
      "metadata": {
        "id": "JkMo5Wjp85s5",
        "colab_type": "text"
      },
      "source": [
        "คำสั่งแสดงค่า num2 เป็นทศนิยม ผลรันที่ได้คือ 112.76887"
      ]
    },
    {
      "cell_type": "code",
      "metadata": {
        "id": "QtP4NY9d8qfI",
        "colab_type": "code",
        "colab": {
          "base_uri": "https://localhost:8080/",
          "height": 35
        },
        "outputId": "abcea9d0-2c40-4677-c4f1-74cef4b7f5b7"
      },
      "source": [
        "str(num2)"
      ],
      "execution_count": null,
      "outputs": [
        {
          "output_type": "execute_result",
          "data": {
            "application/vnd.google.colaboratory.intrinsic+json": {
              "type": "string"
            },
            "text/plain": [
              "'112.76887'"
            ]
          },
          "metadata": {
            "tags": []
          },
          "execution_count": 32
        }
      ]
    },
    {
      "cell_type": "markdown",
      "metadata": {
        "id": "SPcfyfYJ9Iv6",
        "colab_type": "text"
      },
      "source": [
        "คำสั่งแสดงค่าจริงทั้งหมดของ num2 โดยใช้ str() ผลรันที่ได้คือ '112.76887"
      ]
    },
    {
      "cell_type": "code",
      "metadata": {
        "id": "Fb8h7vHy8iJB",
        "colab_type": "code",
        "colab": {}
      },
      "source": [
        ""
      ],
      "execution_count": null,
      "outputs": []
    },
    {
      "cell_type": "code",
      "metadata": {
        "id": "vvQ-obI6p7Wm",
        "colab_type": "code",
        "colab": {}
      },
      "source": [
        ""
      ],
      "execution_count": null,
      "outputs": []
    },
    {
      "cell_type": "markdown",
      "metadata": {
        "id": "pgXnF-JwJwB3",
        "colab_type": "text"
      },
      "source": [
        "# list()"
      ]
    },
    {
      "cell_type": "code",
      "metadata": {
        "id": "9lQrWuBpJ_Td",
        "colab_type": "code",
        "colab": {}
      },
      "source": [
        "list_a = [1, 3, 7, 19]"
      ],
      "execution_count": null,
      "outputs": []
    },
    {
      "cell_type": "markdown",
      "metadata": {
        "id": "R4kMqdkaptwB",
        "colab_type": "text"
      },
      "source": [
        "index(ing) คือตัวชี้ค่าใน list"
      ]
    },
    {
      "cell_type": "code",
      "metadata": {
        "id": "qAGEarvEJ_e2",
        "colab_type": "code",
        "colab": {
          "base_uri": "https://localhost:8080/",
          "height": 34
        },
        "outputId": "4b5d6766-02b9-4f20-aa1a-968e0fa0d785"
      },
      "source": [
        "list_a[0]"
      ],
      "execution_count": null,
      "outputs": [
        {
          "output_type": "execute_result",
          "data": {
            "text/plain": [
              "1"
            ]
          },
          "metadata": {
            "tags": []
          },
          "execution_count": 2
        }
      ]
    },
    {
      "cell_type": "code",
      "metadata": {
        "id": "9qLlr7VxJ_Bz",
        "colab_type": "code",
        "colab": {
          "base_uri": "https://localhost:8080/",
          "height": 34
        },
        "outputId": "9615ff1a-be1b-42ba-a5a6-bd1fc6d224f4"
      },
      "source": [
        "list_a[-1]"
      ],
      "execution_count": null,
      "outputs": [
        {
          "output_type": "execute_result",
          "data": {
            "text/plain": [
              "19"
            ]
          },
          "metadata": {
            "tags": []
          },
          "execution_count": 3
        }
      ]
    },
    {
      "cell_type": "code",
      "metadata": {
        "id": "UL8rk03sKL-A",
        "colab_type": "code",
        "colab": {
          "base_uri": "https://localhost:8080/",
          "height": 34
        },
        "outputId": "e621776e-f7c6-4e5b-bbd7-e2f60cc25fcf"
      },
      "source": [
        "len(list_a)"
      ],
      "execution_count": null,
      "outputs": [
        {
          "output_type": "execute_result",
          "data": {
            "text/plain": [
              "4"
            ]
          },
          "metadata": {
            "tags": []
          },
          "execution_count": 4
        }
      ]
    },
    {
      "cell_type": "code",
      "metadata": {
        "id": "G-622d1eKgOh",
        "colab_type": "code",
        "colab": {}
      },
      "source": [
        "list_b = [1, 4, 'thai',['a',3,9]]"
      ],
      "execution_count": null,
      "outputs": []
    },
    {
      "cell_type": "code",
      "metadata": {
        "id": "3Ic366amKgmv",
        "colab_type": "code",
        "colab": {
          "base_uri": "https://localhost:8080/",
          "height": 35
        },
        "outputId": "bc4e0f36-3cb0-4219-b46b-286f7f2a688d"
      },
      "source": [
        "list_b[-1][0]"
      ],
      "execution_count": null,
      "outputs": [
        {
          "output_type": "execute_result",
          "data": {
            "application/vnd.google.colaboratory.intrinsic+json": {
              "type": "string"
            },
            "text/plain": [
              "'a'"
            ]
          },
          "metadata": {
            "tags": []
          },
          "execution_count": 6
        }
      ]
    },
    {
      "cell_type": "code",
      "metadata": {
        "id": "5128zFkYKgh4",
        "colab_type": "code",
        "colab": {
          "base_uri": "https://localhost:8080/",
          "height": 34
        },
        "outputId": "03e915bd-b700-4ea2-dd4b-0fb0a9678836"
      },
      "source": [
        "list_c = list_a + list_b\n",
        "list_c"
      ],
      "execution_count": null,
      "outputs": [
        {
          "output_type": "execute_result",
          "data": {
            "text/plain": [
              "[1, 3, 7, 19, 1, 4, 'thai', ['a', 3, 9]]"
            ]
          },
          "metadata": {
            "tags": []
          },
          "execution_count": 7
        }
      ]
    },
    {
      "cell_type": "markdown",
      "metadata": {
        "id": "y5MSTZGYMegj",
        "colab_type": "text"
      },
      "source": [
        "create empty list 1"
      ]
    },
    {
      "cell_type": "code",
      "metadata": {
        "id": "HKOY3shCKf_A",
        "colab_type": "code",
        "colab": {}
      },
      "source": [
        "list_a1 = []"
      ],
      "execution_count": null,
      "outputs": []
    },
    {
      "cell_type": "markdown",
      "metadata": {
        "id": "HO77wpanMnKz",
        "colab_type": "text"
      },
      "source": [
        "create empty list 2"
      ]
    },
    {
      "cell_type": "code",
      "metadata": {
        "id": "zetga5QwL22u",
        "colab_type": "code",
        "colab": {}
      },
      "source": [
        "list_a2 = list()"
      ],
      "execution_count": null,
      "outputs": []
    },
    {
      "cell_type": "code",
      "metadata": {
        "id": "tcSOEOIZL2oW",
        "colab_type": "code",
        "colab": {
          "base_uri": "https://localhost:8080/",
          "height": 34
        },
        "outputId": "ae0697b1-7cf1-4c1a-baa2-387d9da0ba97"
      },
      "source": [
        "list_a1.append(666)\n",
        "list_a1"
      ],
      "execution_count": null,
      "outputs": [
        {
          "output_type": "execute_result",
          "data": {
            "text/plain": [
              "[666]"
            ]
          },
          "metadata": {
            "tags": []
          },
          "execution_count": 10
        }
      ]
    },
    {
      "cell_type": "code",
      "metadata": {
        "id": "0SbUqSrXNViE",
        "colab_type": "code",
        "colab": {
          "base_uri": "https://localhost:8080/",
          "height": 51
        },
        "outputId": "1a3337fa-b44e-41ec-f791-ef6eb8af5798"
      },
      "source": [
        "print(list_c)\n",
        "list_c.append(1234)\n",
        "print(list_c)"
      ],
      "execution_count": null,
      "outputs": [
        {
          "output_type": "stream",
          "text": [
            "[1, 3, 7, 19, 1, 4, 'thai', ['a', 3, 9]]\n",
            "[1, 3, 7, 19, 1, 4, 'thai', ['a', 3, 9], 1234]\n"
          ],
          "name": "stdout"
        }
      ]
    },
    {
      "cell_type": "markdown",
      "metadata": {
        "id": "EQjfKWvPOjWF",
        "colab_type": "text"
      },
      "source": [
        "# string is a list of characters"
      ]
    },
    {
      "cell_type": "code",
      "metadata": {
        "id": "Wo46e731NVU8",
        "colab_type": "code",
        "colab": {}
      },
      "source": [
        "word_a = 'statistics KKU'"
      ],
      "execution_count": null,
      "outputs": []
    },
    {
      "cell_type": "code",
      "metadata": {
        "id": "9297cMKsOYZj",
        "colab_type": "code",
        "colab": {
          "base_uri": "https://localhost:8080/",
          "height": 35
        },
        "outputId": "3a7ef7f6-0e94-41a7-a6d8-af7a73268fcc"
      },
      "source": [
        "word_a[-1]"
      ],
      "execution_count": null,
      "outputs": [
        {
          "output_type": "execute_result",
          "data": {
            "application/vnd.google.colaboratory.intrinsic+json": {
              "type": "string"
            },
            "text/plain": [
              "'U'"
            ]
          },
          "metadata": {
            "tags": []
          },
          "execution_count": 18
        }
      ]
    },
    {
      "cell_type": "code",
      "metadata": {
        "id": "NOtxVGsjOWUc",
        "colab_type": "code",
        "colab": {
          "base_uri": "https://localhost:8080/",
          "height": 35
        },
        "outputId": "0b87ebaf-0e14-4d4b-b605-e216314e5717"
      },
      "source": [
        "word_a + ' thailand'"
      ],
      "execution_count": null,
      "outputs": [
        {
          "output_type": "execute_result",
          "data": {
            "application/vnd.google.colaboratory.intrinsic+json": {
              "type": "string"
            },
            "text/plain": [
              "'statistics KKU thailand'"
            ]
          },
          "metadata": {
            "tags": []
          },
          "execution_count": 19
        }
      ]
    },
    {
      "cell_type": "code",
      "metadata": {
        "id": "35or5nljKLr4",
        "colab_type": "code",
        "colab": {
          "base_uri": "https://localhost:8080/",
          "height": 34
        },
        "outputId": "093a0697-056c-4c40-eedd-675de374fea6"
      },
      "source": [
        "len(word_a)"
      ],
      "execution_count": null,
      "outputs": [
        {
          "output_type": "execute_result",
          "data": {
            "text/plain": [
              "14"
            ]
          },
          "metadata": {
            "tags": []
          },
          "execution_count": 20
        }
      ]
    },
    {
      "cell_type": "code",
      "metadata": {
        "id": "LK1dL_PQP3q2",
        "colab_type": "code",
        "colab": {
          "base_uri": "https://localhost:8080/",
          "height": 35
        },
        "outputId": "54942c90-8e72-477d-8fb2-6faf3e813916"
      },
      "source": [
        "st_x = f'list_c = {list_c}'\n",
        "st_x"
      ],
      "execution_count": null,
      "outputs": [
        {
          "output_type": "execute_result",
          "data": {
            "application/vnd.google.colaboratory.intrinsic+json": {
              "type": "string"
            },
            "text/plain": [
              "\"list_c = [1, 3, 7, 19, 1, 4, 'thai', ['a', 3, 9], 1234]\""
            ]
          },
          "metadata": {
            "tags": []
          },
          "execution_count": 24
        }
      ]
    },
    {
      "cell_type": "code",
      "metadata": {
        "id": "OrW617JwP3b9",
        "colab_type": "code",
        "colab": {
          "base_uri": "https://localhost:8080/",
          "height": 35
        },
        "outputId": "3317d512-af62-4a75-8fd0-03d4edaa241f"
      },
      "source": [
        "f'modulo example -> a mod 3 = {4%3}'"
      ],
      "execution_count": null,
      "outputs": [
        {
          "output_type": "execute_result",
          "data": {
            "application/vnd.google.colaboratory.intrinsic+json": {
              "type": "string"
            },
            "text/plain": [
              "'modulo example -> a mod 3 = 1'"
            ]
          },
          "metadata": {
            "tags": []
          },
          "execution_count": 23
        }
      ]
    },
    {
      "cell_type": "code",
      "metadata": {
        "id": "N1yxit5wRvDl",
        "colab_type": "code",
        "colab": {
          "base_uri": "https://localhost:8080/",
          "height": 238
        },
        "outputId": "7a6b6212-f227-43d1-9158-ac9af5da93f4"
      },
      "source": [
        "st_x.split()"
      ],
      "execution_count": null,
      "outputs": [
        {
          "output_type": "execute_result",
          "data": {
            "text/plain": [
              "['list_c',\n",
              " '=',\n",
              " '[1,',\n",
              " '3,',\n",
              " '7,',\n",
              " '19,',\n",
              " '1,',\n",
              " '4,',\n",
              " \"'thai',\",\n",
              " \"['a',\",\n",
              " '3,',\n",
              " '9],',\n",
              " '1234]']"
            ]
          },
          "metadata": {
            "tags": []
          },
          "execution_count": 25
        }
      ]
    },
    {
      "cell_type": "code",
      "metadata": {
        "id": "4xY1WsMZRuy6",
        "colab_type": "code",
        "colab": {
          "base_uri": "https://localhost:8080/",
          "height": 51
        },
        "outputId": "c9df096b-15f8-40dd-ab97-090b856eed9d"
      },
      "source": [
        "print(st_x)\n",
        "st_x.split(', ')"
      ],
      "execution_count": null,
      "outputs": [
        {
          "output_type": "stream",
          "text": [
            "list_c = [1, 3, 7, 19, 1, 4, 'thai', ['a', 3, 9], 1234]\n"
          ],
          "name": "stdout"
        },
        {
          "output_type": "execute_result",
          "data": {
            "text/plain": [
              "['list_c = [1', '3', '7', '19', '1', '4', \"'thai'\", \"['a'\", '3', '9]', '1234]']"
            ]
          },
          "metadata": {
            "tags": []
          },
          "execution_count": 27
        }
      ]
    },
    {
      "cell_type": "markdown",
      "metadata": {
        "id": "GHSVOhS8TrWM",
        "colab_type": "text"
      },
      "source": [
        "# Loop"
      ]
    },
    {
      "cell_type": "code",
      "metadata": {
        "id": "BEervxiFQXU4",
        "colab_type": "code",
        "colab": {
          "base_uri": "https://localhost:8080/",
          "height": 153
        },
        "outputId": "e5de5760-e8ff-4467-a827-8f9b5f5456b5"
      },
      "source": [
        "for i in [1,2,3,4]:\n",
        "  print(f'first list {i}')\n",
        "  print(f'second line {2*i}')"
      ],
      "execution_count": null,
      "outputs": [
        {
          "output_type": "stream",
          "text": [
            "first list 1\n",
            "second line 2\n",
            "first list 2\n",
            "second line 4\n",
            "first list 3\n",
            "second line 6\n",
            "first list 4\n",
            "second line 8\n"
          ],
          "name": "stdout"
        }
      ]
    },
    {
      "cell_type": "markdown",
      "metadata": {
        "id": "DQvcEi5VVUhX",
        "colab_type": "text"
      },
      "source": [
        "เป็นการดึงสมาชิกแต่ละตัวออกมาใช้งาน"
      ]
    },
    {
      "cell_type": "code",
      "metadata": {
        "id": "XG-xFpexTlfO",
        "colab_type": "code",
        "colab": {
          "base_uri": "https://localhost:8080/",
          "height": 85
        },
        "outputId": "a1a0d9bd-33bd-4edf-8c02-ce72efdc8c28"
      },
      "source": [
        "for i in [1,2,3,4]:\n",
        "  print('HaHaHa')"
      ],
      "execution_count": null,
      "outputs": [
        {
          "output_type": "stream",
          "text": [
            "HaHaHa\n",
            "HaHaHa\n",
            "HaHaHa\n",
            "HaHaHa\n"
          ],
          "name": "stdout"
        }
      ]
    },
    {
      "cell_type": "code",
      "metadata": {
        "id": "G3Ui2BowVSGs",
        "colab_type": "code",
        "colab": {
          "base_uri": "https://localhost:8080/",
          "height": 85
        },
        "outputId": "95b12f6b-3f60-41d5-d027-b56242d366d7"
      },
      "source": [
        "for x in list_a:\n",
        "  print(x)"
      ],
      "execution_count": null,
      "outputs": [
        {
          "output_type": "stream",
          "text": [
            "1\n",
            "3\n",
            "7\n",
            "19\n"
          ],
          "name": "stdout"
        }
      ]
    },
    {
      "cell_type": "code",
      "metadata": {
        "id": "Zw9DiMrTWJFG",
        "colab_type": "code",
        "colab": {
          "base_uri": "https://localhost:8080/",
          "height": 34
        },
        "outputId": "42bf1755-80f5-446d-e5a1-b844a4eaab44"
      },
      "source": [
        "range(6)"
      ],
      "execution_count": null,
      "outputs": [
        {
          "output_type": "execute_result",
          "data": {
            "text/plain": [
              "range(0, 6)"
            ]
          },
          "metadata": {
            "tags": []
          },
          "execution_count": 33
        }
      ]
    },
    {
      "cell_type": "code",
      "metadata": {
        "id": "Yug0oVUIWI3E",
        "colab_type": "code",
        "colab": {
          "base_uri": "https://localhost:8080/",
          "height": 119
        },
        "outputId": "09dfeb8a-2b90-4310-c379-65cd7d3fbaab"
      },
      "source": [
        "for i in range(6):\n",
        "  print(i)"
      ],
      "execution_count": null,
      "outputs": [
        {
          "output_type": "stream",
          "text": [
            "0\n",
            "1\n",
            "2\n",
            "3\n",
            "4\n",
            "5\n"
          ],
          "name": "stdout"
        }
      ]
    },
    {
      "cell_type": "code",
      "metadata": {
        "id": "mnR9MwePTloU",
        "colab_type": "code",
        "colab": {
          "base_uri": "https://localhost:8080/",
          "height": 272
        },
        "outputId": "2231bcc7-2351-492b-9952-d83174b8b4c9"
      },
      "source": [
        "for i in range(3):\n",
        "  print('start inner')\n",
        "  for j in range(3):\n",
        "    print(f'i = {i}, j = {j} ixj = {i*j}')\n",
        "  print('end inner')"
      ],
      "execution_count": null,
      "outputs": [
        {
          "output_type": "stream",
          "text": [
            "start inner\n",
            "i = 0, j = 0 ixj = 0\n",
            "i = 0, j = 1 ixj = 0\n",
            "i = 0, j = 2 ixj = 0\n",
            "end inner\n",
            "start inner\n",
            "i = 1, j = 0 ixj = 0\n",
            "i = 1, j = 1 ixj = 1\n",
            "i = 1, j = 2 ixj = 2\n",
            "end inner\n",
            "start inner\n",
            "i = 2, j = 0 ixj = 0\n",
            "i = 2, j = 1 ixj = 2\n",
            "i = 2, j = 2 ixj = 4\n",
            "end inner\n"
          ],
          "name": "stdout"
        }
      ]
    },
    {
      "cell_type": "markdown",
      "metadata": {
        "id": "RlMN7BgIYWXG",
        "colab_type": "text"
      },
      "source": [
        "# If statement"
      ]
    },
    {
      "cell_type": "code",
      "metadata": {
        "id": "uHPDA8cZWzNO",
        "colab_type": "code",
        "colab": {}
      },
      "source": [
        "stringX = 'abcdefghijklmnopq'\n",
        "if len(stringX) > 100:\n",
        "  print('StringX is longer than 6')"
      ],
      "execution_count": null,
      "outputs": []
    },
    {
      "cell_type": "code",
      "metadata": {
        "id": "WWRlM5dAQXE3",
        "colab_type": "code",
        "colab": {
          "base_uri": "https://localhost:8080/",
          "height": 34
        },
        "outputId": "8d9410f3-e4b8-41f7-8336-5eff2926effc"
      },
      "source": [
        "stringX = 'abcdefghijklmnopq'\n",
        "if len(stringX) > 100:\n",
        "  print('StringX is longer than 6')\n",
        "else:\n",
        "  print('XXX')"
      ],
      "execution_count": null,
      "outputs": [
        {
          "output_type": "stream",
          "text": [
            "XXX\n"
          ],
          "name": "stdout"
        }
      ]
    },
    {
      "cell_type": "code",
      "metadata": {
        "id": "LGx_uWdXauSq",
        "colab_type": "code",
        "colab": {
          "base_uri": "https://localhost:8080/",
          "height": 34
        },
        "outputId": "dfbc040f-93ee-4dbe-bcc9-c1b4dadb9a60"
      },
      "source": [
        "stringX = 'abcdefghijklmnopq'\n",
        "if len(stringX) > 100:\n",
        "  print('StringX is shorter than 10')\n",
        "elif len(stringX) == 17:\n",
        "  print(stringX)\n",
        "else:\n",
        "  print('XXX')"
      ],
      "execution_count": null,
      "outputs": [
        {
          "output_type": "stream",
          "text": [
            "abcdefghijklmnopq\n"
          ],
          "name": "stdout"
        }
      ]
    },
    {
      "cell_type": "markdown",
      "metadata": {
        "id": "GphPedswby2F",
        "colab_type": "text"
      },
      "source": [
        "# Exercise 1\n",
        "\n",
        "หาค่ามากที่สุดใน list_EX = [-4, -1, -9, 8, 11]\n",
        "โดยไม่ใช้ function max()"
      ]
    },
    {
      "cell_type": "code",
      "metadata": {
        "id": "kyb8q-fwhTbY",
        "colab_type": "code",
        "colab": {
          "base_uri": "https://localhost:8080/",
          "height": 102
        },
        "outputId": "9dd654cb-1510-4097-ec40-79c704e8792b"
      },
      "source": [
        "list_EX = [-4, -1, -9, 8, 11]\n",
        "MAXIMUM = -1000000000\n",
        "for i in list_EX:\n",
        "  if i > MAXIMUM:\n",
        "    MAXIMUM = i\n",
        "    print (f'now MAXIMUM is {MAXIMUM}')\n",
        "print(f'Answer is {MAXIMUM} is the maximum number of {list_EX}')"
      ],
      "execution_count": null,
      "outputs": [
        {
          "output_type": "stream",
          "text": [
            "now MAXIMUM is -4\n",
            "now MAXIMUM is -1\n",
            "now MAXIMUM is 8\n",
            "now MAXIMUM is 11\n",
            "Answer is 11 is the maximum number of [-4, -1, -9, 8, 11]\n"
          ],
          "name": "stdout"
        }
      ]
    },
    {
      "cell_type": "code",
      "metadata": {
        "id": "Gv6fZ4HUauDx",
        "colab_type": "code",
        "colab": {
          "base_uri": "https://localhost:8080/",
          "height": 119
        },
        "outputId": "39e34de8-6667-431c-921c-807509350d71"
      },
      "source": [
        "list_EX = [-4, -1, -9, 8, 11]\n",
        "MAXIMUM = -1000000000\n",
        "for i in list_EX:\n",
        "  if i > MAXIMUM:\n",
        "    print (f'{i}>{MAXIMUM} UPDATE!,',end=' ')\n",
        "    MAXIMUM = i\n",
        "    print (f'now MAXIMUM is {MAXIMUM}')\n",
        "  else:\n",
        "    print (f'{i}<{MAXIMUM} NOT UPDATE!, now maximum is {MAXIMUM}')\n",
        "\n",
        "print(f'The answer is {MAXIMUM} is the maximum number of {list_EX}')"
      ],
      "execution_count": null,
      "outputs": [
        {
          "output_type": "stream",
          "text": [
            "-4>-1000000000 UPDATE!, now MAXIMUM is -4\n",
            "-1>-4 UPDATE!, now MAXIMUM is -1\n",
            "-9<-1 NOT UPDATE!, now maximum is -1\n",
            "8>-1 UPDATE!, now MAXIMUM is 8\n",
            "11>8 UPDATE!, now MAXIMUM is 11\n",
            "The answer is 11 is the maximum number of [-4, -1, -9, 8, 11]\n"
          ],
          "name": "stdout"
        }
      ]
    },
    {
      "cell_type": "code",
      "metadata": {
        "id": "PofiXNF7cWpi",
        "colab_type": "code",
        "colab": {}
      },
      "source": [
        ""
      ],
      "execution_count": null,
      "outputs": []
    },
    {
      "cell_type": "markdown",
      "metadata": {
        "id": "peVU23PKe1au",
        "colab_type": "text"
      },
      "source": [
        "# HW\n",
        "เรียงลำดับค่าใน list_EX = [-4, -1, -9, 8, 11] จากค่ามากที่สุดไปน้อยที่สุด โดยไม่ใช้ function sort()"
      ]
    },
    {
      "cell_type": "code",
      "metadata": {
        "id": "2y4wCDpGcWhG",
        "colab_type": "code",
        "colab": {
          "base_uri": "https://localhost:8080/",
          "height": 34
        },
        "outputId": "bd2c1ee5-de8d-4a2a-acb5-f400a8150685"
      },
      "source": [
        "list_EX = [-4, -1, -9, 8, 11]\n",
        "sizeList_EX = len(list_EX) #5\n",
        "sizeSort = sizeList_EX - 1 #4\n",
        "for index in range(sizeList_EX) :\n",
        "  for j in range(sizeSort) :\n",
        "    if list_EX[j] < list_EX[j+1] :\n",
        "      tmp = list_EX[j]\n",
        "      list_EX[j] = list_EX[j+1]\n",
        "      list_EX[j+1] = tmp\n",
        "print(list_EX)"
      ],
      "execution_count": null,
      "outputs": [
        {
          "output_type": "stream",
          "text": [
            "[11, 8, -1, -4, -9]\n"
          ],
          "name": "stdout"
        }
      ]
    },
    {
      "cell_type": "code",
      "metadata": {
        "id": "-5SeyNVfj1C8",
        "colab_type": "code",
        "colab": {}
      },
      "source": [
        ""
      ],
      "execution_count": null,
      "outputs": []
    },
    {
      "cell_type": "markdown",
      "metadata": {
        "id": "isPsVSnoj10u",
        "colab_type": "text"
      },
      "source": [
        "# Function()"
      ]
    },
    {
      "cell_type": "code",
      "metadata": {
        "id": "qRyHYkSyj7k3",
        "colab_type": "code",
        "colab": {
          "base_uri": "https://localhost:8080/",
          "height": 119
        },
        "outputId": "fe990947-7c52-4ae8-876e-966c8461d491"
      },
      "source": [
        "list_EX = [-4, -1, -9, 8, 11]\n",
        "MAXIMUM = -1000000000\n",
        "for i in list_EX:\n",
        "  if i > MAXIMUM:\n",
        "    print (f'{i}>{MAXIMUM} UPDATE!,',end=' ')\n",
        "    MAXIMUM = i\n",
        "    print (f'now MAXIMUM is {MAXIMUM}')\n",
        "  else:\n",
        "    print (f'{i}<{MAXIMUM} NOT UPDATE!, now maximum is {MAXIMUM}')\n",
        "\n",
        "print(f'The answer is {MAXIMUM} is the maximum number of {list_EX}')"
      ],
      "execution_count": null,
      "outputs": [
        {
          "output_type": "stream",
          "text": [
            "-4>-1000000000 UPDATE!, now MAXIMUM is -4\n",
            "-1>-4 UPDATE!, now MAXIMUM is -1\n",
            "-9<-1 NOT UPDATE!, now maximum is -1\n",
            "8>-1 UPDATE!, now MAXIMUM is 8\n",
            "11>8 UPDATE!, now MAXIMUM is 11\n",
            "The answer is 11 is the maximum number of [-4, -1, -9, 8, 11]\n"
          ],
          "name": "stdout"
        }
      ]
    },
    {
      "cell_type": "markdown",
      "metadata": {
        "id": "E22vKRcIln1o",
        "colab_type": "text"
      },
      "source": [
        "Ctrl + ] เพื่อเลื่อนโค้ดไปด้านขวา\n",
        "\n",
        "Ctrl + [ เพื่อเลื่อนโค้ดไปด้านซ้าย"
      ]
    },
    {
      "cell_type": "code",
      "metadata": {
        "id": "UGYR-Huij9dG",
        "colab_type": "code",
        "colab": {}
      },
      "source": [
        "def find_max(in_list):\n",
        "  MAXIMUM = -1000000000\n",
        "  for i in in_list:\n",
        "    if i > MAXIMUM:\n",
        "      print (f'{i}>{MAXIMUM} UPDATE!,',end=' ')\n",
        "      MAXIMUM = i\n",
        "      print (f'now MAXIMUM is {MAXIMUM}')\n",
        "    else:\n",
        "      print (f'{i}<{MAXIMUM} NOT UPDATE!, now maximum is {MAXIMUM}')\n",
        "\n",
        "  print(f'The answer is {MAXIMUM} is the maximum number of {in_list}')"
      ],
      "execution_count": null,
      "outputs": []
    },
    {
      "cell_type": "code",
      "metadata": {
        "id": "7OzqhWTIj9N6",
        "colab_type": "code",
        "colab": {
          "base_uri": "https://localhost:8080/",
          "height": 119
        },
        "outputId": "ec92277b-63bc-417d-c6e9-a9e393cf81a8"
      },
      "source": [
        "find_max([12,1666,912312,-2,77])"
      ],
      "execution_count": null,
      "outputs": [
        {
          "output_type": "stream",
          "text": [
            "12>-1000000000 UPDATE!, now MAXIMUM is 12\n",
            "1666>12 UPDATE!, now MAXIMUM is 1666\n",
            "912312>1666 UPDATE!, now MAXIMUM is 912312\n",
            "-2<912312 NOT UPDATE!, now maximum is 912312\n",
            "77<912312 NOT UPDATE!, now maximum is 912312\n",
            "The answer is 912312 is the maximum number of [12, 1666, 912312, -2, 77]\n"
          ],
          "name": "stdout"
        }
      ]
    },
    {
      "cell_type": "code",
      "metadata": {
        "id": "e3WUDqoenbTj",
        "colab_type": "code",
        "colab": {}
      },
      "source": [
        "def find_max(in_list):\n",
        "  MAXIMUM = -1000000000\n",
        "  for i in in_list:\n",
        "    if i > MAXIMUM:\n",
        "      print (f'{i}>{MAXIMUM} UPDATE!,',end=' ')\n",
        "      MAXIMUM = i\n",
        "      print (f'now MAXIMUM is {MAXIMUM}')\n",
        "    else:\n",
        "      print (f'{i}<{MAXIMUM} NOT UPDATE!, now maximum is {MAXIMUM}')\n",
        "\n",
        "  print(f'The answer is {MAXIMUM} is the maximum number of {in_list}')\n",
        "  return MAXIMUM"
      ],
      "execution_count": null,
      "outputs": []
    },
    {
      "cell_type": "code",
      "metadata": {
        "id": "DodLXdMHnbF4",
        "colab_type": "code",
        "colab": {
          "base_uri": "https://localhost:8080/",
          "height": 119
        },
        "outputId": "d34a960d-38b0-41da-f1c9-35247b3dc335"
      },
      "source": [
        "a = find_max([12,1666,912312,-2,77])"
      ],
      "execution_count": null,
      "outputs": [
        {
          "output_type": "stream",
          "text": [
            "12>-1000000000 UPDATE!, now MAXIMUM is 12\n",
            "1666>12 UPDATE!, now MAXIMUM is 1666\n",
            "912312>1666 UPDATE!, now MAXIMUM is 912312\n",
            "-2<912312 NOT UPDATE!, now maximum is 912312\n",
            "77<912312 NOT UPDATE!, now maximum is 912312\n",
            "The answer is 912312 is the maximum number of [12, 1666, 912312, -2, 77]\n"
          ],
          "name": "stdout"
        }
      ]
    },
    {
      "cell_type": "code",
      "metadata": {
        "id": "PfTP2q0koXI6",
        "colab_type": "code",
        "colab": {
          "base_uri": "https://localhost:8080/",
          "height": 34
        },
        "outputId": "28ce40e2-3c83-48ad-ec87-ea2d87abe32e"
      },
      "source": [
        "a"
      ],
      "execution_count": null,
      "outputs": [
        {
          "output_type": "execute_result",
          "data": {
            "text/plain": [
              "912312"
            ]
          },
          "metadata": {
            "tags": []
          },
          "execution_count": 52
        }
      ]
    },
    {
      "cell_type": "code",
      "metadata": {
        "id": "IaLtEbU1oW_e",
        "colab_type": "code",
        "colab": {}
      },
      "source": [
        ""
      ],
      "execution_count": null,
      "outputs": []
    },
    {
      "cell_type": "code",
      "metadata": {
        "id": "_cyicsV4okXe",
        "colab_type": "code",
        "colab": {}
      },
      "source": [
        ""
      ],
      "execution_count": null,
      "outputs": []
    },
    {
      "cell_type": "code",
      "metadata": {
        "id": "mqd56OwFokBR",
        "colab_type": "code",
        "colab": {}
      },
      "source": [
        ""
      ],
      "execution_count": null,
      "outputs": []
    },
    {
      "cell_type": "markdown",
      "metadata": {
        "id": "-Rx2g5zWiLSR",
        "colab_type": "text"
      },
      "source": [
        "# List Slicing"
      ]
    },
    {
      "cell_type": "code",
      "metadata": {
        "id": "u-jNOOnNiVK8",
        "colab_type": "code",
        "colab": {}
      },
      "source": [
        "example_list = list(range(-4,99,3))"
      ],
      "execution_count": 1,
      "outputs": []
    },
    {
      "cell_type": "code",
      "metadata": {
        "id": "ovVCHvX_iVuK",
        "colab_type": "code",
        "colab": {
          "base_uri": "https://localhost:8080/",
          "height": 612
        },
        "outputId": "c6b617a0-3949-471d-c132-02149a1cee39"
      },
      "source": [
        "example_list"
      ],
      "execution_count": 2,
      "outputs": [
        {
          "output_type": "execute_result",
          "data": {
            "text/plain": [
              "[-4,\n",
              " -1,\n",
              " 2,\n",
              " 5,\n",
              " 8,\n",
              " 11,\n",
              " 14,\n",
              " 17,\n",
              " 20,\n",
              " 23,\n",
              " 26,\n",
              " 29,\n",
              " 32,\n",
              " 35,\n",
              " 38,\n",
              " 41,\n",
              " 44,\n",
              " 47,\n",
              " 50,\n",
              " 53,\n",
              " 56,\n",
              " 59,\n",
              " 62,\n",
              " 65,\n",
              " 68,\n",
              " 71,\n",
              " 74,\n",
              " 77,\n",
              " 80,\n",
              " 83,\n",
              " 86,\n",
              " 89,\n",
              " 92,\n",
              " 95,\n",
              " 98]"
            ]
          },
          "metadata": {
            "tags": []
          },
          "execution_count": 2
        }
      ]
    },
    {
      "cell_type": "code",
      "metadata": {
        "id": "3I1_HTGViVhS",
        "colab_type": "code",
        "colab": {
          "base_uri": "https://localhost:8080/",
          "height": 34
        },
        "outputId": "bd3b1a7d-0fa0-4e0c-b108-3b4b630a381c"
      },
      "source": [
        "example_list[0:10]"
      ],
      "execution_count": 3,
      "outputs": [
        {
          "output_type": "execute_result",
          "data": {
            "text/plain": [
              "[-4, -1, 2, 5, 8, 11, 14, 17, 20, 23]"
            ]
          },
          "metadata": {
            "tags": []
          },
          "execution_count": 3
        }
      ]
    },
    {
      "cell_type": "code",
      "metadata": {
        "id": "QuIgDtbylPs1",
        "colab_type": "code",
        "colab": {
          "base_uri": "https://localhost:8080/",
          "height": 34
        },
        "outputId": "ea6b04f3-63c8-4362-b1ac-36341b22aa8d"
      },
      "source": [
        "example_list[:10]"
      ],
      "execution_count": 4,
      "outputs": [
        {
          "output_type": "execute_result",
          "data": {
            "text/plain": [
              "[-4, -1, 2, 5, 8, 11, 14, 17, 20, 23]"
            ]
          },
          "metadata": {
            "tags": []
          },
          "execution_count": 4
        }
      ]
    },
    {
      "cell_type": "code",
      "metadata": {
        "id": "-PUsjxtulPd3",
        "colab_type": "code",
        "colab": {
          "base_uri": "https://localhost:8080/",
          "height": 34
        },
        "outputId": "3ae5446c-7940-4322-f531-3918356794b5"
      },
      "source": [
        "example_list[-10:]"
      ],
      "execution_count": 5,
      "outputs": [
        {
          "output_type": "execute_result",
          "data": {
            "text/plain": [
              "[71, 74, 77, 80, 83, 86, 89, 92, 95, 98]"
            ]
          },
          "metadata": {
            "tags": []
          },
          "execution_count": 5
        }
      ]
    },
    {
      "cell_type": "markdown",
      "metadata": {
        "id": "OYr90PdQmL4m",
        "colab_type": "text"
      },
      "source": [
        "^10 ตัวสุดท้าย"
      ]
    },
    {
      "cell_type": "code",
      "metadata": {
        "id": "WmkhQ8C4l-Yt",
        "colab_type": "code",
        "colab": {
          "base_uri": "https://localhost:8080/",
          "height": 34
        },
        "outputId": "ae1c0f15-3597-4cbd-dae8-3822bfb58211"
      },
      "source": [
        "example_list[9:-2:4]"
      ],
      "execution_count": 6,
      "outputs": [
        {
          "output_type": "execute_result",
          "data": {
            "text/plain": [
              "[23, 35, 47, 59, 71, 83]"
            ]
          },
          "metadata": {
            "tags": []
          },
          "execution_count": 6
        }
      ]
    },
    {
      "cell_type": "markdown",
      "metadata": {
        "id": "9Yjlv8S0mZL7",
        "colab_type": "text"
      },
      "source": [
        "^ [เริ่มตัวที่ 9 จบที่ตัวก่อน -2:เดินที่ละ 4 ตัว]"
      ]
    },
    {
      "cell_type": "code",
      "metadata": {
        "id": "HFVmeiFzl-QX",
        "colab_type": "code",
        "colab": {
          "base_uri": "https://localhost:8080/",
          "height": 612
        },
        "outputId": "02877439-84f4-4993-8316-e694c28e9003"
      },
      "source": [
        "example_list[::-1]"
      ],
      "execution_count": 7,
      "outputs": [
        {
          "output_type": "execute_result",
          "data": {
            "text/plain": [
              "[98,\n",
              " 95,\n",
              " 92,\n",
              " 89,\n",
              " 86,\n",
              " 83,\n",
              " 80,\n",
              " 77,\n",
              " 74,\n",
              " 71,\n",
              " 68,\n",
              " 65,\n",
              " 62,\n",
              " 59,\n",
              " 56,\n",
              " 53,\n",
              " 50,\n",
              " 47,\n",
              " 44,\n",
              " 41,\n",
              " 38,\n",
              " 35,\n",
              " 32,\n",
              " 29,\n",
              " 26,\n",
              " 23,\n",
              " 20,\n",
              " 17,\n",
              " 14,\n",
              " 11,\n",
              " 8,\n",
              " 5,\n",
              " 2,\n",
              " -1,\n",
              " -4]"
            ]
          },
          "metadata": {
            "tags": []
          },
          "execution_count": 7
        }
      ]
    },
    {
      "cell_type": "code",
      "metadata": {
        "id": "SIRmiAKoiU84",
        "colab_type": "code",
        "colab": {}
      },
      "source": [
        ""
      ],
      "execution_count": null,
      "outputs": []
    }
  ]
}
